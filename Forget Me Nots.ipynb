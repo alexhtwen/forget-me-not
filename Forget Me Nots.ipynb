{
 "cells": [
  {
   "cell_type": "markdown",
   "metadata": {},
   "source": [
    "<div style=\"text-align:center\"><img src=\"https://hackmd.io/_uploads/SJrFgVFlke.jpg\" width=\"800\"/></div>\n",
    "<br><br>\n",
    "\n",
    "---\n",
    "\n",
    "<div style=\"font-family: 'Inconsolata'; color: #9ACD32;\">\n",
    "<div style=\"font-size: 1200%; font-weight: 700; text-align: center;\">\n",
    "勿忘草\n",
    "</div>\n",
    "<br><br>\n",
    "<div style=\"font-size: 250%; font-weight: 500; color: #4D6619; text-align: center;\">\n",
    "Python記憶體管理的一鱗半爪\n",
    "</div>\n",
    "\n",
    "</div>"
   ]
  },
  {
   "cell_type": "code",
   "execution_count": 12,
   "metadata": {},
   "outputs": [
    {
     "data": {
      "application/javascript": "// 設定output文字顏色。\ndocument.styleSheets[0].addRule('body', 'color: #9ACD32 !important;')\n",
      "text/plain": [
       "<IPython.core.display.Javascript object>"
      ]
     },
     "metadata": {},
     "output_type": "display_data"
    }
   ],
   "source": [
    "%%javascript\n",
    "// 設定output文字顏色。\n",
    "document.styleSheets[0].addRule('body', 'color: #9ACD32 !important;')"
   ]
  },
  {
   "cell_type": "code",
   "execution_count": 6,
   "metadata": {},
   "outputs": [
    {
     "name": "stdout",
     "output_type": "stream",
     "text": [
      "Hello, world.\n"
     ]
    }
   ],
   "source": [
    "print('Hello, world.')"
   ]
  },
  {
   "cell_type": "markdown",
   "metadata": {},
   "source": [
    "<div style=\"font-size: 150%; font-weight: 500; color: #94A375;\">\n",
    "先看以下的程式片段\n",
    "</div>"
   ]
  },
  {
   "cell_type": "code",
   "execution_count": null,
   "metadata": {},
   "outputs": [
    {
     "name": "stdout",
     "output_type": "stream",
     "text": [
      "[2, 3, 4, 5]\n"
     ]
    }
   ],
   "source": [
    "from typing import Any\n",
    "\n",
    "def foo(values: list, value: Any) -> list:\n",
    "    values.append(5)\n",
    "    return (values := [6, 8, 7])\n",
    "\n",
    "my_list = [2, 3, 4]\n",
    "_ = foo(my_list, 5)\n",
    "print(my_list)\n",
    "\n",
    "# 1) [2, 3, 4]\n",
    "# 2) [6, 8, 7]\n",
    "# 3) [2, 3, 4, 5]\n",
    "# 4) [6, 8, 7, 5]\n",
    "# 5) [2, 3, 4, 5, 6, 8, 7]\n",
    "# 6) 以上皆非\n"
   ]
  }
 ],
 "metadata": {
  "kernelspec": {
   "display_name": "Python 3",
   "language": "python",
   "name": "python3"
  },
  "language_info": {
   "codemirror_mode": {
    "name": "ipython",
    "version": 3
   },
   "file_extension": ".py",
   "mimetype": "text/x-python",
   "name": "python",
   "nbconvert_exporter": "python",
   "pygments_lexer": "ipython3",
   "version": "3.12.7"
  }
 },
 "nbformat": 4,
 "nbformat_minor": 2
}
